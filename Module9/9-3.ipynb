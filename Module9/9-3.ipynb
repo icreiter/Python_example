{
 "cells": [
  {
   "cell_type": "code",
   "execution_count": 2,
   "metadata": {},
   "outputs": [
    {
     "name": "stdout",
     "output_type": "stream",
     "text": [
      "John Snow\n"
     ]
    }
   ],
   "source": [
    "def get_name() -> str: # '-> str'這句只是提示，沒有實質意義\n",
    "    name = \"John Snow\"\n",
    "\n",
    "    return name\n",
    "\n",
    "result = get_name()\n",
    "print(result)"
   ]
  },
  {
   "cell_type": "code",
   "execution_count": null,
   "metadata": {},
   "outputs": [
    {
     "name": "stdout",
     "output_type": "stream",
     "text": [
      "('John Snow', 30)\n"
     ]
    }
   ],
   "source": [
    "def get_name(name: str, age: int) -> str: # '-> name age旁邊的str int也都只是提示而已\n",
    "    name = \"John Snow\"\n",
    "\n",
    "    return name, age\n",
    "\n",
    "result = get_name(name=\"John Snow\", age = 30)\n",
    "print(result)"
   ]
  },
  {
   "cell_type": "code",
   "execution_count": 5,
   "metadata": {},
   "outputs": [
    {
     "name": "stdout",
     "output_type": "stream",
     "text": [
      "(1, 2, 3, 4, 5)\n",
      "315\n"
     ]
    }
   ],
   "source": [
    "def add_all_nums(*args, **kwargs):\n",
    "    print(args)\n",
    "    sum = 0\n",
    "    for i in args:\n",
    "        sum += i\n",
    "    \n",
    "    for value in kwargs.values():\n",
    "        sum +=value\n",
    "\n",
    "    print(sum)\n",
    "\n",
    "add_all_nums(1, 2, 3, 4, 5, num1=100, num2=200)\n"
   ]
  }
 ],
 "metadata": {
  "kernelspec": {
   "display_name": "Python 3",
   "language": "python",
   "name": "python3"
  },
  "language_info": {
   "codemirror_mode": {
    "name": "ipython",
    "version": 3
   },
   "file_extension": ".py",
   "mimetype": "text/x-python",
   "name": "python",
   "nbconvert_exporter": "python",
   "pygments_lexer": "ipython3",
   "version": "3.13.0"
  }
 },
 "nbformat": 4,
 "nbformat_minor": 2
}
