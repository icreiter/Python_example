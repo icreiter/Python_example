{
 "cells": [
  {
   "cell_type": "code",
   "execution_count": 1,
   "metadata": {},
   "outputs": [
    {
     "name": "stdout",
     "output_type": "stream",
     "text": [
      "4\n"
     ]
    }
   ],
   "source": [
    "# 類別名稱\n",
    "class Car:\n",
    "    # 類別屬性 (Class Attribute)\n",
    "    wheels = 4\n",
    "\n",
    "print(Car.wheels)\n",
    "\n"
   ]
  },
  {
   "cell_type": "code",
   "execution_count": null,
   "metadata": {},
   "outputs": [],
   "source": []
  },
  {
   "cell_type": "code",
   "execution_count": null,
   "metadata": {},
   "outputs": [
    {
     "name": "stdout",
     "output_type": "stream",
     "text": [
      "(Toyota)\n",
      "Camry\n",
      "ok\n",
      "The (Toyota) Camry has 4 wheels\n",
      "855000.0\n",
      "ok\n",
      "The (Benz) C300 has 4 wheels\n",
      "2475000.0\n",
      "OK\n"
     ]
    }
   ],
   "source": [
    "# 類別名稱\n",
    "class Car:\n",
    "    # 類別屬性 (Class Attribute)\n",
    "    wheels = 4\n",
    "\n",
    "    # 建構函式 (Constructor function)\n",
    "    def __init__(self, brand, model, price):\n",
    "        self.brand = f\"({brand})\"\n",
    "        self.model = model\n",
    "        self.price = price\n",
    "\n",
    "    # 方法 (Method)\n",
    "    def get_info(self):\n",
    "        print(\"ok\")\n",
    "        return f\"The {self.brand} {self.model} has {Car.wheels} wheels\"\n",
    "    \n",
    "    def get_discount_price(self, discount):\n",
    "        discount_price = self.price *discount\n",
    "\n",
    "        return discount_price\n",
    "\n",
    "    @staticmethod    #用Decorator就可不使用self，但一般不使用類別屬性時，一般直接就寫在class之外\n",
    "    def test():\n",
    "        print(\"OK\")\n",
    "\n",
    "\n",
    "\n",
    "toyota_car = Car(\"Toyota\", \"Camry\", 900000)\n",
    "print(toyota_car.brand)\n",
    "print(toyota_car.model)\n",
    "\n",
    "print(toyota_car.get_info())\n",
    "print(toyota_car.get_discount_price(0.95))\n",
    "\n",
    "benz_car = Car(\"Benz\", \"C300\", 2500000)\n",
    "print(benz_car.get_info())\n",
    "print(benz_car.get_discount_price(0.99))\n",
    "\n",
    "benz_car.test()\n"
   ]
  },
  {
   "cell_type": "code",
   "execution_count": null,
   "metadata": {},
   "outputs": [],
   "source": []
  }
 ],
 "metadata": {
  "kernelspec": {
   "display_name": "Python 3",
   "language": "python",
   "name": "python3"
  },
  "language_info": {
   "codemirror_mode": {
    "name": "ipython",
    "version": 3
   },
   "file_extension": ".py",
   "mimetype": "text/x-python",
   "name": "python",
   "nbconvert_exporter": "python",
   "pygments_lexer": "ipython3",
   "version": "3.13.0"
  }
 },
 "nbformat": 4,
 "nbformat_minor": 2
}
