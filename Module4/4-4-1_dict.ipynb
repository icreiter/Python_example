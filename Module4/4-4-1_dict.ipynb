{
 "cells": [
  {
   "cell_type": "code",
   "execution_count": 1,
   "metadata": {},
   "outputs": [
    {
     "name": "stdout",
     "output_type": "stream",
     "text": [
      "{'apple': 100, 'orange': 50, 'tomato': 20}\n"
     ]
    }
   ],
   "source": [
    "# 初始化 dict\n",
    "fruit_price_dict = {\"apple\": 100, \"orange\": 50, \"tomato\": 20}\n",
    "print(fruit_price_dict)\n"
   ]
  },
  {
   "cell_type": "code",
   "execution_count": 6,
   "metadata": {},
   "outputs": [
    {
     "name": "stdout",
     "output_type": "stream",
     "text": [
      "{'apple': 100, 'orange': 50, 'tomato': 20}\n"
     ]
    }
   ],
   "source": [
    "# 建議的寫法\n",
    "fruit_price_dict = {\n",
    "    \"apple\": 100, \n",
    "    \"orange\": 50, \n",
    "    \"tomato\": 20,\n",
    "    }\n",
    "print(fruit_price_dict)\n"
   ]
  },
  {
   "cell_type": "code",
   "execution_count": 7,
   "metadata": {},
   "outputs": [
    {
     "name": "stdout",
     "output_type": "stream",
     "text": [
      "100\n"
     ]
    }
   ],
   "source": [
    "# 印出 蘋果的價格\n",
    "print(fruit_price_dict[\"apple\"])\n"
   ]
  },
  {
   "cell_type": "code",
   "execution_count": 8,
   "metadata": {},
   "outputs": [
    {
     "name": "stdout",
     "output_type": "stream",
     "text": [
      "{'apple': 100, 'orange': 70, 'tomato': 20}\n"
     ]
    }
   ],
   "source": [
    "# 修改 橘子的價格\n",
    "fruit_price_dict[\"orange\"] = 70\n",
    "print(fruit_price_dict)"
   ]
  },
  {
   "cell_type": "code",
   "execution_count": 9,
   "metadata": {},
   "outputs": [
    {
     "name": "stdout",
     "output_type": "stream",
     "text": [
      "{'apple': 100, 'orange': 70}\n"
     ]
    }
   ],
   "source": [
    "# 刪除 番茄\n",
    "del fruit_price_dict[\"tomato\"]\n",
    "print(fruit_price_dict)\n"
   ]
  },
  {
   "cell_type": "code",
   "execution_count": null,
   "metadata": {},
   "outputs": [
    {
     "name": "stdout",
     "output_type": "stream",
     "text": [
      "{'apple': 100, 'orange': 70, 'kiwi': 150}\n"
     ]
    }
   ],
   "source": [
    "# 新增 key (同修改，只是如果資料裡面沒有的話就變成新增)\n",
    "fruit_price_dict[\"kiwi\"] = 150\n",
    "print(fruit_price_dict)"
   ]
  },
  {
   "cell_type": "code",
   "execution_count": 13,
   "metadata": {},
   "outputs": [
    {
     "name": "stdout",
     "output_type": "stream",
     "text": [
      "{'name': 'John Snow', 'age': 20, 'info': {'nickname': 'boatman', 'role': 'You know nothing', 'phone_num': ['0123456789', '0912345678']}}\n"
     ]
    }
   ],
   "source": [
    "# 建立一個 value 含有 dict 的 dict\n",
    "person_info_dict = {\"name\": \"John Snow\"}\n",
    "person_info_dict[\"age\"] = 20\n",
    "person_info_dict[\"info\"] = {\n",
    "    \"nickname\": \"boatman\",\n",
    "    \"role\": \"You know nothing\",\n",
    "    \"phone_num\": [\"0123456789\", \"0912345678\"]\n",
    "}\n",
    "print(person_info_dict)"
   ]
  },
  {
   "cell_type": "code",
   "execution_count": null,
   "metadata": {},
   "outputs": [
    {
     "name": "stdout",
     "output_type": "stream",
     "text": [
      "{'age': 20,\n",
      " 'info': {'nickname': 'boatman',\n",
      "          'phone_num': ['0123456789', '0912345678'],\n",
      "          'role': 'You know nothing'},\n",
      " 'name': 'John Snow'}\n"
     ]
    }
   ],
   "source": [
    "from pprint import pprint # pretty print(pprint) 的模組(套件), 但不要用在for迴圈，會出錯\n",
    "pprint(person_info_dict)"
   ]
  },
  {
   "cell_type": "code",
   "execution_count": 16,
   "metadata": {},
   "outputs": [
    {
     "name": "stdout",
     "output_type": "stream",
     "text": [
      "{'nickname': 'boatman', 'role': 'You know nothing', 'phone_num': ['0123456789', '0912345678']}\n",
      "boatman\n"
     ]
    }
   ],
   "source": [
    "# 取得 nickname\n",
    "print(person_info_dict[\"info\"])\n",
    "print(person_info_dict[\"info\"][\"nickname\"])\n"
   ]
  },
  {
   "cell_type": "code",
   "execution_count": 20,
   "metadata": {},
   "outputs": [
    {
     "name": "stdout",
     "output_type": "stream",
     "text": [
      "電話號碼-1:0123456789\n",
      "電話號碼-2:0912345678\n"
     ]
    }
   ],
   "source": [
    "# 取得所有 phone_number\n",
    "cnt = 0\n",
    "for phone_num in person_info_dict[\"info\"][\"phone_num\"]:\n",
    "    cnt += 1\n",
    "    print(f\"電話號碼-{cnt}:{phone_num}\")\n"
   ]
  },
  {
   "cell_type": "markdown",
   "metadata": {},
   "source": [
    "---"
   ]
  },
  {
   "cell_type": "code",
   "execution_count": 33,
   "metadata": {},
   "outputs": [
    {
     "name": "stdout",
     "output_type": "stream",
     "text": [
      "{'apple': {'price': 30, 'quantity': 100, 'color': ['綠色', '紅色']}, 'orange': {'price': 20, 'quantity': 50, 'color': ['橘色']}}\n"
     ]
    }
   ],
   "source": [
    "'''\n",
    "改寫 fruit_dict 每個水果需要 price, quantity/amount, color\n",
    "apple 有 綠色 和 紅色\n",
    "orange 有 橘色\n",
    "tomato 有 紅色\n",
    "'''\n",
    "fruit_dict = {\n",
    "    \"apple\": {\n",
    "        \"price\": 30,\n",
    "        \"quantity\": 100,\n",
    "        \"color\": [\"綠色\", \"紅色\"]\n",
    "    },\n",
    "    \"orange\": {\n",
    "        \"price\": 20,\n",
    "        \"quantity\": 50,\n",
    "        \"color\": [\"橘色\"] # 因前面已經用list去放，此行最好也用list去放資料，以將資料型態保持一致\n",
    "    }\n",
    "\n",
    "}\n",
    "print(fruit_dict)\n",
    "\n",
    "fruit_dict2 = {\n",
    "    \"tomato\": {\n",
    "        \"price\": 100,\n",
    "        \"quantity\": 50,\n",
    "        \"color\": [\"紅色\"]\n",
    "    }\n",
    "}\n"
   ]
  },
  {
   "cell_type": "markdown",
   "metadata": {},
   "source": [
    "##### dict 的合併"
   ]
  },
  {
   "cell_type": "code",
   "execution_count": 34,
   "metadata": {},
   "outputs": [
    {
     "name": "stdout",
     "output_type": "stream",
     "text": [
      "{'apple': {'color': ['綠色', '紅色'], 'price': 30, 'quantity': 100},\n",
      " 'orange': {'color': ['橘色'], 'price': 20, 'quantity': 50},\n",
      " 'tomato': {'color': ['紅色'], 'price': 100, 'quantity': 50}}\n"
     ]
    }
   ],
   "source": [
    "# dict 的合併\n",
    "fruit_dict.update(fruit_dict2)\n",
    "pprint(fruit_dict)"
   ]
  },
  {
   "cell_type": "markdown",
   "metadata": {},
   "source": [
    "##### 另外的 print 方式 `pprint` (pretty-print) "
   ]
  },
  {
   "cell_type": "code",
   "execution_count": null,
   "metadata": {},
   "outputs": [],
   "source": [
    "# 從 Module 引入 function\n",
    "from pprint import pprint # pretty print(pprint) 的模組(套件), 但不要用在for迴圈，會出錯\n",
    "pprint(person_info_dict)"
   ]
  },
  {
   "cell_type": "code",
   "execution_count": 35,
   "metadata": {},
   "outputs": [
    {
     "name": "stdout",
     "output_type": "stream",
     "text": [
      "{'apple': {'color': ['綠色', '紅色', 'yellow'], 'price': 30, 'quantity': 100},\n",
      " 'orange': {'color': ['橘色'], 'price': 20, 'quantity': 50},\n",
      " 'tomato': {'color': ['紅色'], 'price': 100, 'quantity': 50}}\n"
     ]
    }
   ],
   "source": [
    "'''\n",
    "新增顏色\n",
    "apple 有新的品種 顏色要有黃色\n",
    "tomato 有綠色\n",
    "'''\n",
    "fruit_dict[\"apple\"][\"color\"].append(\"yellow\")\n",
    "pprint(fruit_dict)"
   ]
  },
  {
   "cell_type": "code",
   "execution_count": 36,
   "metadata": {},
   "outputs": [
    {
     "name": "stdout",
     "output_type": "stream",
     "text": [
      "{'apple': {'color': ['綠色', '紅色', 'yellow'], 'price': 30, 'quantity': 100},\n",
      " 'orange': {'color': ['橘色'], 'price': 20, 'quantity': 50},\n",
      " 'tomato': {'color': ['紅色', 'green'], 'price': 100, 'quantity': 50}}\n"
     ]
    }
   ],
   "source": [
    "fruit_dict[\"tomato\"][\"color\"].append(\"green\")\n",
    "pprint(fruit_dict)"
   ]
  }
 ],
 "metadata": {
  "kernelspec": {
   "display_name": "Python 3",
   "language": "python",
   "name": "python3"
  },
  "language_info": {
   "codemirror_mode": {
    "name": "ipython",
    "version": 3
   },
   "file_extension": ".py",
   "mimetype": "text/x-python",
   "name": "python",
   "nbconvert_exporter": "python",
   "pygments_lexer": "ipython3",
   "version": "3.13.0"
  }
 },
 "nbformat": 4,
 "nbformat_minor": 2
}
