{
 "cells": [
  {
   "cell_type": "markdown",
   "metadata": {},
   "source": [
    "|語法|說明|\n",
    "|:---:|:---:|\n",
    "|%s |插入 字串 的值到字串中|\n",
    "|%d |插入 整數 的值到字串中|\n",
    "|%f |插入 浮點數 的值到字串中|\n",
    "| |輸出  (類似跳脫字元)|"
   ]
  },
  {
   "cell_type": "code",
   "execution_count": 1,
   "metadata": {},
   "outputs": [
    {
     "name": "stdout",
     "output_type": "stream",
     "text": [
      "Greeting: Hello World!\n"
     ]
    }
   ],
   "source": [
    "# 多組文字\n",
    "msg = \"Greeting: %s %s!\" % (\"Hello\", \"World\")\n",
    "\n",
    "print(msg)\n"
   ]
  },
  {
   "cell_type": "code",
   "execution_count": 3,
   "metadata": {},
   "outputs": [
    {
     "name": "stdout",
     "output_type": "stream",
     "text": [
      "I am 20 years old.\n"
     ]
    }
   ],
   "source": [
    "# 整數\n",
    "msg = \"I am %d years old.\" % (20)\n",
    "print(msg)\n"
   ]
  },
  {
   "cell_type": "code",
   "execution_count": 5,
   "metadata": {},
   "outputs": [
    {
     "name": "stdout",
     "output_type": "stream",
     "text": [
      "Alex is 20 years old.\n"
     ]
    }
   ],
   "source": [
    "# 文字與整數\n",
    "msg = \"%s is %d years old.\" % (\"Alex\", 20)\n",
    "print(msg)\n"
   ]
  },
  {
   "cell_type": "code",
   "execution_count": 6,
   "metadata": {},
   "outputs": [
    {
     "name": "stdout",
     "output_type": "stream",
     "text": [
      "[     Hello]\n"
     ]
    }
   ],
   "source": [
    "# 指定寬度 (維持 10 個字元長度，預設向右看齊)\n",
    "msg = \"[%10s]\" % (\"Hello\")\n",
    "print(msg)"
   ]
  },
  {
   "cell_type": "code",
   "execution_count": null,
   "metadata": {},
   "outputs": [
    {
     "name": "stdout",
     "output_type": "stream",
     "text": [
      "[Hello     ]\n"
     ]
    }
   ],
   "source": [
    "# 靠左對齊 (維持 10 個字元長度，向左對齊)\n",
    "msg = \"[%-10s]\" % (\"Hello\")\n",
    "print(msg)"
   ]
  },
  {
   "cell_type": "code",
   "execution_count": null,
   "metadata": {},
   "outputs": [
    {
     "name": "stdout",
     "output_type": "stream",
     "text": [
      "[3.143]\n"
     ]
    }
   ],
   "source": [
    "# 指定浮點數位數\n",
    "msg = \"[%.3f]\" % (3.14256)\n",
    "print(msg)"
   ]
  },
  {
   "cell_type": "code",
   "execution_count": null,
   "metadata": {},
   "outputs": [
    {
     "name": "stdout",
     "output_type": "stream",
     "text": [
      "[Chi]\n"
     ]
    }
   ],
   "source": [
    "# 指定文字長度上限 (只有文字，才在格式化字串中加入「.」來限定字串長度)\n",
    "msg = \"[%.3s]\" % (\"Chill\")\n",
    "print(msg)"
   ]
  },
  {
   "cell_type": "code",
   "execution_count": 20,
   "metadata": {},
   "outputs": [
    {
     "name": "stdout",
     "output_type": "stream",
     "text": [
      "[0000003.14]\n"
     ]
    }
   ],
   "source": [
    "# 空白補 0\n",
    "msg = \"[%010.2f]\" % (3.14)\n",
    "print(msg)"
   ]
  },
  {
   "cell_type": "code",
   "execution_count": 19,
   "metadata": {},
   "outputs": [
    {
     "name": "stdout",
     "output_type": "stream",
     "text": [
      "25.00%\n"
     ]
    }
   ],
   "source": [
    "# Output %\n",
    "msg = \"%.2f%%\" % (25)\n",
    "print(msg)"
   ]
  }
 ],
 "metadata": {
  "kernelspec": {
   "display_name": "Python 3",
   "language": "python",
   "name": "python3"
  },
  "language_info": {
   "codemirror_mode": {
    "name": "ipython",
    "version": 3
   },
   "file_extension": ".py",
   "mimetype": "text/x-python",
   "name": "python",
   "nbconvert_exporter": "python",
   "pygments_lexer": "ipython3",
   "version": "3.13.0"
  }
 },
 "nbformat": 4,
 "nbformat_minor": 2
}
