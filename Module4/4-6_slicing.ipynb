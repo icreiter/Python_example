{
 "cells": [
  {
   "cell_type": "markdown",
   "metadata": {},
   "source": [
    "##### slice 透過 [ : ] 進行分割\n",
    "`[n:m]` 走訪 n 到 m - 1 的元素"
   ]
  },
  {
   "cell_type": "code",
   "execution_count": 15,
   "metadata": {},
   "outputs": [
    {
     "name": "stdout",
     "output_type": "stream",
     "text": [
      "Hello,World!\n"
     ]
    }
   ],
   "source": [
    "# 初始化一個字串\n",
    "data = \"Hello,World!\"\n",
    "print(data)"
   ]
  },
  {
   "cell_type": "code",
   "execution_count": 16,
   "metadata": {},
   "outputs": [
    {
     "name": "stdout",
     "output_type": "stream",
     "text": [
      "Hello\n"
     ]
    }
   ],
   "source": [
    "# 從頭取到 5（不包含第 5 個元素，實際為 0 ~ 4）\n",
    "print(data[0:5])\n"
   ]
  },
  {
   "cell_type": "code",
   "execution_count": 17,
   "metadata": {},
   "outputs": [
    {
     "name": "stdout",
     "output_type": "stream",
     "text": [
      "Hello\n"
     ]
    }
   ],
   "source": [
    "# 從頭取到 5（不包含第 5 個元素，實際為 0 ~ 4）\n",
    "print(data[:5])\n"
   ]
  },
  {
   "cell_type": "code",
   "execution_count": 18,
   "metadata": {},
   "outputs": [
    {
     "name": "stdout",
     "output_type": "stream",
     "text": [
      "World!\n"
     ]
    }
   ],
   "source": [
    "# 從 6 取到尾\n",
    "print(data[6:])\n"
   ]
  },
  {
   "cell_type": "code",
   "execution_count": 19,
   "metadata": {},
   "outputs": [
    {
     "name": "stdout",
     "output_type": "stream",
     "text": [
      "or\n"
     ]
    }
   ],
   "source": [
    "# 從 7 取到 9（不包含第 9 個元素，實際為 7 ~ 8）\n",
    "print(data[7:9])\n"
   ]
  },
  {
   "cell_type": "markdown",
   "metadata": {},
   "source": [
    "##### 使用負號"
   ]
  },
  {
   "cell_type": "code",
   "execution_count": 20,
   "metadata": {},
   "outputs": [
    {
     "name": "stdout",
     "output_type": "stream",
     "text": [
      "llo\n"
     ]
    }
   ],
   "source": [
    "# 從倒數第 10 取到倒數第 7（不包含倒數第 7 的元素）\n",
    "print(data[-10:-7])\n"
   ]
  },
  {
   "cell_type": "code",
   "execution_count": 21,
   "metadata": {},
   "outputs": [
    {
     "name": "stdout",
     "output_type": "stream",
     "text": [
      "World!\n"
     ]
    }
   ],
   "source": [
    "# 從倒數第 6 取到尾\n",
    "print(data[-6:])\n"
   ]
  },
  {
   "cell_type": "code",
   "execution_count": 27,
   "metadata": {},
   "outputs": [
    {
     "name": "stdout",
     "output_type": "stream",
     "text": [
      "Hello\n",
      "!dlroW\n"
     ]
    }
   ],
   "source": [
    "# 從頭取到倒數第 7（不包含倒數第 7 的元素）\n",
    "print(data[:-7])\n",
    "\n",
    "# reverse 取值\n",
    "print(data[:-7:-1])\n"
   ]
  },
  {
   "cell_type": "code",
   "execution_count": 32,
   "metadata": {},
   "outputs": [
    {
     "name": "stdout",
     "output_type": "stream",
     "text": [
      "[1, 2, 3, 4, 5, 6]\n",
      "[0, 1, 2, 3, 4, 5]\n"
     ]
    }
   ],
   "source": [
    "# 也可以使用在 list\n",
    "num_list = [i for i in range(1, 11)]\n",
    "print(num_list[:6])\n",
    "\n",
    "num_list = [i for i in range(11)]\n",
    "print(num_list[:6])"
   ]
  },
  {
   "cell_type": "code",
   "execution_count": 34,
   "metadata": {},
   "outputs": [
    {
     "name": "stdout",
     "output_type": "stream",
     "text": [
      "['', 'home', 'jarvis', 'ebook.txt']\n",
      "ebook.txt\n"
     ]
    }
   ],
   "source": [
    "# 取得檔案全名\n",
    "file_path = \"/home/jarvis/ebook.txt\"\n",
    "file_path_list = file_path.split('/')\n",
    "\n",
    "print(file_path_list)\n",
    "print(file_path_list[-1])\n"
   ]
  },
  {
   "cell_type": "markdown",
   "metadata": {},
   "source": [
    "---"
   ]
  },
  {
   "cell_type": "code",
   "execution_count": 37,
   "metadata": {},
   "outputs": [
    {
     "name": "stdout",
     "output_type": "stream",
     "text": [
      "['hello', 'world!', 'hello', 'john']\n",
      "Hello World! Hello John \n",
      "Hello World! Hello John\n"
     ]
    }
   ],
   "source": [
    "# 實做練習 將每個單字改成大寫開頭\n",
    "string04 = \"hello world! hello john\"\n",
    "str_list = string04.split(\" \")\n",
    "print(str_list)\n",
    "\n",
    "result =\"\"\n",
    "for s in str_list:\n",
    "    result += s[0].upper() +s[1:] +\" \" #跳過index 0，所以用1開頭\n",
    "\n",
    "print(result)\n",
    "\n",
    "result2 = \" \".join([i[0].upper() +i[1:] for i in str_list])\n",
    "print(result2)"
   ]
  },
  {
   "cell_type": "code",
   "execution_count": null,
   "metadata": {},
   "outputs": [
    {
     "name": "stdout",
     "output_type": "stream",
     "text": [
      "Hello world! hello john\n",
      "Hello World! Hello John \n"
     ]
    }
   ],
   "source": [
    "string04 = \"hello world! hello john\"\n",
    "print(string04.capitalize())\n",
    "\n",
    "str_list = string04.split(\" \")\n",
    "result =\"\"\n",
    "for s in str_list:\n",
    "    result += s.capitalize() +\" \"\n",
    "\n",
    "print(result)"
   ]
  }
 ],
 "metadata": {
  "kernelspec": {
   "display_name": "Python 3",
   "language": "python",
   "name": "python3"
  },
  "language_info": {
   "codemirror_mode": {
    "name": "ipython",
    "version": 3
   },
   "file_extension": ".py",
   "mimetype": "text/x-python",
   "name": "python",
   "nbconvert_exporter": "python",
   "pygments_lexer": "ipython3",
   "version": "3.13.0"
  }
 },
 "nbformat": 4,
 "nbformat_minor": 2
}
