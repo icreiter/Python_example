{
 "cells": [
  {
   "cell_type": "code",
   "execution_count": null,
   "metadata": {},
   "outputs": [
    {
     "name": "stdout",
     "output_type": "stream",
     "text": [
      "Chill is 20 year old.\n"
     ]
    }
   ],
   "source": [
    "# f-string (又稱作 formatted string literals, version >= 3.6)\n",
    "name = \"Chill\"\n",
    "age = 20\n",
    "\n",
    "print(f\"{name} is {age} years old.\")"
   ]
  },
  {
   "cell_type": "code",
   "execution_count": 3,
   "metadata": {},
   "outputs": [
    {
     "name": "stdout",
     "output_type": "stream",
     "text": [
      "name: [John Snow ], age: [        20]\n"
     ]
    }
   ],
   "source": [
    "# 靠左對齊、靠右對齊\n",
    "name = \"John Snow\"\n",
    "age = 20\n",
    "\n",
    "result = f\"name: [{name:<10}], age: [{age:>10}]\"\n",
    "print(result)"
   ]
  },
  {
   "cell_type": "code",
   "execution_count": 4,
   "metadata": {},
   "outputs": [
    {
     "name": "stdout",
     "output_type": "stream",
     "text": [
      "name: [John Snowx], age: [0000000020]\n"
     ]
    }
   ],
   "source": [
    "# 靠左對齊、靠右對齊，字數不足，補「ㄏ」\n",
    "# (沒寫補什麼，預設空格)\n",
    "name = \"John Snow\"\n",
    "age = 20\n",
    "\n",
    "result = f\"name: [{name:x<10}], age: [{age:0>10}]\"\n",
    "print(result)\n"
   ]
  },
  {
   "cell_type": "code",
   "execution_count": 5,
   "metadata": {},
   "outputs": [
    {
     "name": "stdout",
     "output_type": "stream",
     "text": [
      "name: [John Snow ], age: [    20    ]\n"
     ]
    }
   ],
   "source": [
    "# 置中對齊\n",
    "name = \"John Snow\"\n",
    "age = 20\n",
    "\n",
    "result = f\"name: [{name:^10}], age: [{age:^10}]\"\n",
    "print(result)\n",
    "\n"
   ]
  },
  {
   "cell_type": "code",
   "execution_count": 7,
   "metadata": {},
   "outputs": [
    {
     "name": "stdout",
     "output_type": "stream",
     "text": [
      "name: [    Jo    ], age: [    20    ]\n"
     ]
    }
   ],
   "source": [
    "# 指定文字長度上限 (只有文字，才在格式化字串中加入「.」來限定字串長度)\n",
    "name = \"John Snow\"\n",
    "age = 20\n",
    "\n",
    "result = f\"name: [{name:^10.2}], age: [{age:^10}]\"\n",
    "print(result)\n",
    "\n",
    "\n"
   ]
  },
  {
   "cell_type": "code",
   "execution_count": 8,
   "metadata": {},
   "outputs": [
    {
     "name": "stdout",
     "output_type": "stream",
     "text": [
      "3.14 %\n"
     ]
    }
   ],
   "source": [
    "# 小數點2位\n",
    "\n",
    "print(f\"{3.14256745847:.2f} %\")"
   ]
  }
 ],
 "metadata": {
  "kernelspec": {
   "display_name": "Python 3",
   "language": "python",
   "name": "python3"
  },
  "language_info": {
   "codemirror_mode": {
    "name": "ipython",
    "version": 3
   },
   "file_extension": ".py",
   "mimetype": "text/x-python",
   "name": "python",
   "nbconvert_exporter": "python",
   "pygments_lexer": "ipython3",
   "version": "3.13.0"
  }
 },
 "nbformat": 4,
 "nbformat_minor": 2
}
