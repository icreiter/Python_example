{
 "cells": [
  {
   "cell_type": "markdown",
   "metadata": {},
   "source": [
    "|string方法| 功能 |\n",
    "|:---:|:---:|\n",
    "|str.replace(<str1>, <str2>) | 替換字串 |\n",
    "|string.strip()| 去除兩側空格 |\n",
    "| | 字串小寫變大寫 |\n",
    "| | 字串大寫變小寫 |"
   ]
  },
  {
   "cell_type": "code",
   "execution_count": 3,
   "metadata": {},
   "outputs": [
    {
     "name": "stdout",
     "output_type": "stream",
     "text": [
      "Good morning\n",
      "2238503119600\n",
      "Good night\n",
      "2238503116016\n"
     ]
    }
   ],
   "source": [
    "# 字串變數初始化\n",
    "message = \"Good morning\"\n",
    "print(message)\n",
    "print(id(message))\n",
    "message = \"Good night\"\n",
    "print(message)\n",
    "print(id(message))\n"
   ]
  },
  {
   "cell_type": "code",
   "execution_count": 4,
   "metadata": {},
   "outputs": [
    {
     "name": "stdout",
     "output_type": "stream",
     "text": [
      "Good Morning\n",
      "Good Night\n"
     ]
    }
   ],
   "source": [
    "# 替換字串\n",
    "'''\n",
    "string.replace(<str1>, <str2>)\n",
    "將 string 中的 str1 替換成 str2\n",
    "'''\n",
    "message = \"Good Morning\"\n",
    "new_message = message.replace(\"Morning\", \"Night\")\n",
    "\n",
    "print(message)\n",
    "print(new_message)\n"
   ]
  },
  {
   "cell_type": "code",
   "execution_count": null,
   "metadata": {},
   "outputs": [
    {
     "name": "stdout",
     "output_type": "stream",
     "text": [
      "__ccc___\n",
      "Hello\n"
     ]
    }
   ],
   "source": [
    "# 去除兩側空格\n",
    "'''\n",
    "string.strip()\n",
    "去除字串 string 左、右兩邊的空格\n",
    "'''\n",
    "string01 = \"   __ccc___   \"\n",
    "new_string01 = string01.strip()\n",
    "# new_string01 = string01.rstrip() 去除右邊\n",
    "# new_string01 = string01.lstrip() 去除左邊\n",
    "\n",
    "print(new_string01)\n",
    "\n",
    "message = \"Hello!!!\"\n",
    "new_message = message.strip(\"!\")\n",
    "print(new_message)\n"
   ]
  },
  {
   "cell_type": "code",
   "execution_count": 7,
   "metadata": {},
   "outputs": [
    {
     "name": "stdout",
     "output_type": "stream",
     "text": [
      "car\n",
      "CHILL\n"
     ]
    }
   ],
   "source": [
    "# 字串小寫變大寫\n",
    "'''\n",
    "string.lower()\n",
    "將字串 string 裡的字母全部改成小寫\n",
    "'''\n",
    "print(\"CAR\".lower())\n",
    "\n",
    "\n",
    "'''\n",
    "string.upper()\n",
    "將字串 string 裡的字母全部改成大寫\n",
    "'''\n",
    "msg = \"chill\"\n",
    "print(msg.upper())\n"
   ]
  },
  {
   "cell_type": "code",
   "execution_count": 9,
   "metadata": {},
   "outputs": [
    {
     "name": "stdout",
     "output_type": "stream",
     "text": [
      "['hello', 'world!', 'hello', 'John']\n",
      "['hello world', ' hello John']\n"
     ]
    }
   ],
   "source": [
    "# 字串分割成 list\n",
    "greeting = \"hello world! hello John\"\n",
    "str_list = greeting.split(' ')\n",
    "str_list2 = greeting.split('!')\n",
    "\n",
    "print(str_list)\n",
    "print(str_list2)"
   ]
  }
 ],
 "metadata": {
  "kernelspec": {
   "display_name": "Python 3",
   "language": "python",
   "name": "python3"
  },
  "language_info": {
   "codemirror_mode": {
    "name": "ipython",
    "version": 3
   },
   "file_extension": ".py",
   "mimetype": "text/x-python",
   "name": "python",
   "nbconvert_exporter": "python",
   "pygments_lexer": "ipython3",
   "version": "3.13.0"
  }
 },
 "nbformat": 4,
 "nbformat_minor": 2
}
