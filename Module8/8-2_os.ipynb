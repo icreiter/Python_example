{
 "cells": [
  {
   "cell_type": "code",
   "execution_count": null,
   "metadata": {},
   "outputs": [
    {
     "name": "stdout",
     "output_type": "stream",
     "text": [
      "['8-1-1_json.ipynb', '8-1_open.ipynb', '8-2_os.ipynb', '8-3_practice.ipynb', 'data.txt', 'file.txt', 'fruit.json', 'fruit2.json', 'test.txt', 'test_dir']\n"
     ]
    }
   ],
   "source": [
    "# 匯入套件\n",
    "import os\n",
    "\n",
    "# 檔案路徑\n",
    "file_list = os.listdir('./')\n",
    "\n",
    "print(file_list)\n",
    "# 如果指定路徑的檔案存在，則執行刪除\n",
    "if not os.path.exists(\"test_dir\"):\n",
    "    print(\"建立資料夾\") # 當作提示是否有近來建資料夾\n",
    "    os.mkdir(\"test_dir\")\n",
    "    \n",
    "\n"
   ]
  }
 ],
 "metadata": {
  "kernelspec": {
   "display_name": "Python 3",
   "language": "python",
   "name": "python3"
  },
  "language_info": {
   "codemirror_mode": {
    "name": "ipython",
    "version": 3
   },
   "file_extension": ".py",
   "mimetype": "text/x-python",
   "name": "python",
   "nbconvert_exporter": "python",
   "pygments_lexer": "ipython3",
   "version": "3.13.0"
  }
 },
 "nbformat": 4,
 "nbformat_minor": 2
}
