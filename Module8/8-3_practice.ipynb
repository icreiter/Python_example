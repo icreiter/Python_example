{
 "cells": [
  {
   "cell_type": "markdown",
   "metadata": {},
   "source": [
    "##### 將 data.txt 的資料分類成另外三個檔案，分別為 cc.txt 、 css.txt 、 c.txt  "
   ]
  },
  {
   "cell_type": "code",
   "execution_count": null,
   "metadata": {},
   "outputs": [
    {
     "name": "stdout",
     "output_type": "stream",
     "text": [
      "['abc0182.cc', 'abc0102.cc', 'abc0281.cc', 'abc0134.c', 'abc0238.cc', 'abc0244.c', 'abc0157.css', 'abc0116.c', 'abc0245.cc', 'abc0187.cc', 'abc0202.c', 'abc0285.cc', 'abc0220.cc', 'abc0174.css', 'abc0140.c', 'abc0176.c', 'abc0174.css', 'abc0244.css', 'abc0289.css', 'abc0175.c']\n",
      "test123\n",
      "test123\n",
      "test123\n",
      "test789\n",
      "test123\n",
      "test789\n",
      "test456\n",
      "test789\n",
      "test123\n",
      "test123\n",
      "test789\n",
      "test123\n",
      "test123\n",
      "test456\n",
      "test789\n",
      "test789\n",
      "test456\n",
      "test456\n",
      "test456\n",
      "test789\n"
     ]
    }
   ],
   "source": [
    "with open(file=\"data.txt\", mode =\"r\", encoding=\"utf-8\") as f:\n",
    "    doc = f.readlines()\n",
    "    # while '\\n' in doc:\n",
    "    #    doc.remove('\\n')\n",
    "    \n",
    "    doc_without_n_list = []\n",
    "    for i in doc:\n",
    "        doc_without_n_list.append(i.strip('\\n'))\n",
    "    print(doc_without_n_list) \n",
    "    for k in doc_without_n_list:\n",
    "   \n",
    "        if '.cc' in k:\n",
    "            print(\"test123\")\n",
    "            with open(file=\"cc.txt\", mode =\"a\", encoding=\"utf-8\") as datei1:\n",
    "                datei1.write(f\"{str(k)}\\n\")\n",
    "        elif '.css' in k:\n",
    "            print(\"test456\")\n",
    "            with open(file=\"css.txt\", mode =\"a\", encoding=\"utf-8\") as datei2:\n",
    "                datei2.write(f\"{str(k)}\\n\")\n",
    "        else:\n",
    "            print(\"test789\")\n",
    "            with open(file=\"c.txt\", mode =\"a\", encoding=\"utf-8\") as datei3:\n",
    "                datei3.write(f\"{str(k)}\\n\")\n",
    "\n",
    "\n",
    "\n",
    "#print(doc)\n",
    "#print(doc_without_n_list)\n"
   ]
  },
  {
   "cell_type": "code",
   "execution_count": 29,
   "metadata": {},
   "outputs": [
    {
     "name": "stdout",
     "output_type": "stream",
     "text": [
      "['abc0182.cc', 'abc0102.cc', 'abc0281.cc', 'abc0134.c', 'abc0238.cc', 'abc0244.c', 'abc0157.css', 'abc0116.c', 'abc0245.cc', 'abc0187.cc', 'abc0202.c', 'abc0285.cc', 'abc0220.cc', 'abc0174.css', 'abc0140.c', 'abc0176.c', 'abc0174.css', 'abc0244.css', 'abc0289.css', 'abc0175.c']\n"
     ]
    }
   ],
   "source": [
    "# Loesung 1\n",
    "\n",
    "with open('data.txt', 'r') as f:\n",
    "    file_data = f.readlines()\n",
    "\n",
    "    data_without_n = []\n",
    "    for i in file_data:\n",
    "        data_without_n.append(i.strip('\\n'))\n",
    "    # data_without_n = [i.strip('\\n') for i in data]\n",
    "\n",
    "    for data in data_without_n:\n",
    "        if 'css' in data:\n",
    "            with open('css.txt', 'a') as f:\n",
    "                f.write(data + '\\n')\n",
    "        elif 'cc' in data:\n",
    "            with open('cc.txt', 'a') as f:\n",
    "                f.write(data +'\\n')\n",
    "        else:\n",
    "            with open('c.txt', 'a') as f:\n",
    "                f.write(data +'\\n')\n",
    "\n",
    "#print(data)\n",
    "print(data_without_n)\n"
   ]
  },
  {
   "cell_type": "code",
   "execution_count": 32,
   "metadata": {},
   "outputs": [
    {
     "name": "stdout",
     "output_type": "stream",
     "text": [
      "cc\n",
      "css\n"
     ]
    }
   ],
   "source": [
    "s1 = \"abc0182.cc\"\n",
    "print(s1[-2:])\n",
    "\n",
    "s2 = \"abc2314.css\"\n",
    "print(s2[-3:])"
   ]
  },
  {
   "cell_type": "code",
   "execution_count": 34,
   "metadata": {},
   "outputs": [
    {
     "name": "stdout",
     "output_type": "stream",
     "text": [
      "['abc0182.cc', 'abc0102.cc', 'abc0281.cc', 'abc0134.c', 'abc0238.cc', 'abc0244.c', 'abc0157.css', 'abc0116.c', 'abc0245.cc', 'abc0187.cc', 'abc0202.c', 'abc0285.cc', 'abc0220.cc', 'abc0174.css', 'abc0140.c', 'abc0176.c', 'abc0174.css', 'abc0244.css', 'abc0289.css', 'abc0175.c']\n"
     ]
    }
   ],
   "source": [
    "# Loesung 2\n",
    "with open('data.txt', 'r') as f:\n",
    "    file_data = f.readlines()\n",
    "\n",
    "    data_without_n = []\n",
    "    for i in file_data:\n",
    "        data_without_n.append(i.strip('\\n'))\n",
    "    # data_without_n = [i.strip('\\n') for i in data]\n",
    "\n",
    "    for data in data_without_n:\n",
    "        if data[-3:] == 'css':\n",
    "            with open('css.txt', 'a') as f:\n",
    "                f.write(data +'\\n')\n",
    "        elif data[-2:] == 'cc':\n",
    "            with open('cc.txt', 'a') as f:\n",
    "                f.write(data +'\\n')\n",
    "        elif data[-1:]:\n",
    "            with open('c.txt', 'a') as f:\n",
    "                f.write(data +'\\n')\n",
    "\n",
    "print(data_without_n)"
   ]
  }
 ],
 "metadata": {
  "kernelspec": {
   "display_name": "Python 3",
   "language": "python",
   "name": "python3"
  },
  "language_info": {
   "codemirror_mode": {
    "name": "ipython",
    "version": 3
   },
   "file_extension": ".py",
   "mimetype": "text/x-python",
   "name": "python",
   "nbconvert_exporter": "python",
   "pygments_lexer": "ipython3",
   "version": "3.13.0"
  }
 },
 "nbformat": 4,
 "nbformat_minor": 2
}
