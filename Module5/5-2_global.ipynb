{
 "cells": [
  {
   "cell_type": "code",
   "execution_count": 1,
   "metadata": {},
   "outputs": [
    {
     "name": "stdout",
     "output_type": "stream",
     "text": [
      "John Snow\n",
      "Bill\n"
     ]
    }
   ],
   "source": [
    "# 全域變數\n",
    "name = \"Bill\"\n",
    "\n",
    "# 定義函式\n",
    "def get_name():\n",
    "    name = \"John Snow\"\n",
    "    return name\n",
    "\n",
    "# 執行函式\n",
    "print(get_name())\n",
    "\n",
    "# 輸出 name\n",
    "print(name)\n"
   ]
  },
  {
   "cell_type": "markdown",
   "metadata": {},
   "source": [
    "##### 使用 global 讓函式存取全域變數的值"
   ]
  },
  {
   "cell_type": "code",
   "execution_count": 2,
   "metadata": {},
   "outputs": [
    {
     "name": "stdout",
     "output_type": "stream",
     "text": [
      "John Snow\n",
      "John Snow\n"
     ]
    }
   ],
   "source": [
    "# 全域變數\n",
    "name = \"Bill\"\n",
    "\n",
    "# 定義函式\n",
    "def get_name():\n",
    "    # global name = \"John Snow\" # 錯誤寫法\n",
    "    global name #要先呼叫global\n",
    "    name = \"John Snow\" # 才能去定義\n",
    "    return name\n",
    "\n",
    "# 執行函式\n",
    "print(get_name())\n",
    "\n",
    "# 輸出 name\n",
    "print(name)\n",
    "\n"
   ]
  }
 ],
 "metadata": {
  "kernelspec": {
   "display_name": "Python 3",
   "language": "python",
   "name": "python3"
  },
  "language_info": {
   "codemirror_mode": {
    "name": "ipython",
    "version": 3
   },
   "file_extension": ".py",
   "mimetype": "text/x-python",
   "name": "python",
   "nbconvert_exporter": "python",
   "pygments_lexer": "ipython3",
   "version": "3.13.0"
  }
 },
 "nbformat": 4,
 "nbformat_minor": 2
}
